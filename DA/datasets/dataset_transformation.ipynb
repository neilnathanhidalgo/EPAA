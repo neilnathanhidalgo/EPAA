{
 "cells": [
  {
   "cell_type": "code",
   "execution_count": 1,
   "id": "initial_id",
   "metadata": {
    "collapsed": true,
    "ExecuteTime": {
     "end_time": "2024-06-06T14:12:08.332361300Z",
     "start_time": "2024-06-06T14:12:04.435008200Z"
    }
   },
   "outputs": [],
   "source": [
    "import scipy\n",
    "from scipy.io import loadmat\n",
    "import pandas as pd\n",
    "import numpy as np"
   ]
  },
  {
   "cell_type": "code",
   "execution_count": 2,
   "id": "8a3e7d21c2608b36",
   "metadata": {
    "collapsed": false,
    "ExecuteTime": {
     "end_time": "2024-05-30T22:25:19.613250900Z",
     "start_time": "2024-05-30T22:25:19.328140Z"
    }
   },
   "outputs": [],
   "source": [
    "#Transformación de archivos .mat a .csv\n",
    "\n",
    "mat_data = scipy.io.loadmat('D:/Estudios/Ciclo X 2024-I/DPY/TG/UniMiB-SHAR/UniMiB-SHAR/data/two_classes_data.mat')\n",
    "mat_names = scipy.io.loadmat('D:/Estudios/Ciclo X 2024-I/DPY/TG/UniMiB-SHAR/UniMiB-SHAR/data/acc_names.mat')\n",
    "mat_labels = scipy.io.loadmat('D:/Estudios/Ciclo X 2024-I/DPY/TG/UniMiB-SHAR/UniMiB-SHAR/data/two_classes_labels.mat')\n"
   ]
  },
  {
   "cell_type": "code",
   "execution_count": 3,
   "id": "b2baa4dbda8a9764",
   "metadata": {
    "collapsed": false,
    "ExecuteTime": {
     "end_time": "2024-05-30T22:25:26.708651700Z",
     "start_time": "2024-05-30T22:25:26.691862800Z"
    }
   },
   "outputs": [],
   "source": [
    "#Selección de archivo\n",
    "\n",
    "csv_data = pd.DataFrame(mat_data['two_classes_data'])\n",
    "\n",
    "csv_names = pd.DataFrame(mat_names['acc_names'])\n",
    "\n",
    "csv_labels = pd.DataFrame(mat_labels['two_classes_labels'])\n",
    "csv_labels.columns = ['Activity', 'Subject', 'Unknown']"
   ]
  },
  {
   "cell_type": "code",
   "execution_count": 4,
   "id": "3c4e347ae794af6a",
   "metadata": {
    "collapsed": false,
    "ExecuteTime": {
     "end_time": "2024-05-30T22:25:29.851258500Z",
     "start_time": "2024-05-30T22:25:29.837953700Z"
    }
   },
   "outputs": [],
   "source": [
    "#Asignación de nombres a las columnas\n",
    "\n",
    "def change_name(activity):\n",
    "    if activity == 1:\n",
    "        return 'ADL'\n",
    "    elif activity == 2:\n",
    "        return 'Fall'\n",
    "    else:\n",
    "        return 'Error'\n",
    "    \n",
    "csv_labels['Activity'] = csv_labels['Activity'].apply(change_name)"
   ]
  },
  {
   "cell_type": "code",
   "execution_count": 5,
   "id": "dcf7d9210f74a837",
   "metadata": {
    "collapsed": false,
    "ExecuteTime": {
     "end_time": "2024-05-30T22:25:38.143927200Z",
     "start_time": "2024-05-30T22:25:38.052527800Z"
    }
   },
   "outputs": [
    {
     "data": {
      "text/plain": "               0          1          2         3         4         5  \\\n0       7.609005   7.322882   7.281458  7.753253  8.043099  8.215854   \n1       8.507709   8.480922   8.747757  8.863954  8.863968  8.458413   \n2       8.442040   8.632098   8.730012  8.697698  8.552650  8.057508   \n3     -11.025566 -11.714652 -11.765208 -9.944634 -7.660169 -6.882160   \n4       0.238472   0.321549   0.383802  0.495767  0.664556  0.776264   \n...          ...        ...        ...       ...       ...       ...   \n11766   1.005701   1.006190   1.068643  0.971916  1.089215  1.022837   \n11767   1.068643   0.971916   1.089215  1.022837  1.073568  1.111888   \n11768   1.073568   1.111888   1.088565  1.093610  1.035777  1.074355   \n11769   1.223470   1.242246   1.269694  1.346501  1.354140  1.325915   \n11770   1.325915   1.280235   1.305431  1.349815  1.303579  1.370115   \n\n              6         7          8          9  ...       446       447  \\\n0      8.388745  8.578034   8.658356   8.670648  ... -6.449742 -6.415010   \n1      7.782317  7.412026   7.589061   7.709209  ... -6.472510 -6.626783   \n2      0.395888 -0.090756  -0.335575  -0.507582  ... -6.830472 -6.872514   \n3     -7.601299 -9.161294 -10.339050 -11.046978  ... -8.040819 -8.091955   \n4      1.019609  1.010645   0.850412   0.473916  ... -7.324491 -7.473060   \n...         ...       ...        ...        ...  ...       ...       ...   \n11766  1.073568  1.111888   1.088565   1.093610  ...  9.438275  9.461239   \n11767  1.088565  1.093610   1.035777   1.074355  ...  9.426198  9.411766   \n11768  1.128931  1.188528   1.132282   1.147824  ...  9.436222  9.474634   \n11769  1.280235  1.305431   1.349815   1.303579  ...  9.451387  9.464519   \n11770  1.345454  1.486077   1.439522   1.529129  ...  9.349558  9.349558   \n\n            448       449       450       451       452  Activity  Subject  \\\n0     -6.514918 -6.590504 -6.535514 -6.453252 -6.182647       ADL        1   \n1     -6.774500 -6.929722 -6.846734 -6.704524 -6.513264       ADL        1   \n2     -7.249798 -7.414935 -7.278581 -7.127102 -6.832014       ADL        1   \n3     -7.817943 -7.768974 -7.687118 -7.795514 -7.819323       ADL        1   \n4     -7.441543 -7.546224 -7.474858 -7.441730 -7.412475       ADL        1   \n...         ...       ...       ...       ...       ...       ...      ...   \n11766  9.426198  9.411766  9.314750  9.409670  9.436222      Fall       30   \n11767  9.314750  9.409670  9.436222  9.474634  9.449454      Fall       30   \n11768  9.449454  9.399822  9.501343  9.464519  9.423611      Fall       30   \n11769  9.441694  9.466195  9.349558  9.349558  9.349558      Fall       30   \n11770  9.349558  9.349558  9.349558  9.349558  9.349558      Fall       30   \n\n       Unknown  \n0            1  \n1            1  \n2            1  \n3            2  \n4            2  \n...        ...  \n11766        6  \n11767        6  \n11768        6  \n11769        6  \n11770        6  \n\n[11771 rows x 456 columns]",
      "text/html": "<div>\n<style scoped>\n    .dataframe tbody tr th:only-of-type {\n        vertical-align: middle;\n    }\n\n    .dataframe tbody tr th {\n        vertical-align: top;\n    }\n\n    .dataframe thead th {\n        text-align: right;\n    }\n</style>\n<table border=\"1\" class=\"dataframe\">\n  <thead>\n    <tr style=\"text-align: right;\">\n      <th></th>\n      <th>0</th>\n      <th>1</th>\n      <th>2</th>\n      <th>3</th>\n      <th>4</th>\n      <th>5</th>\n      <th>6</th>\n      <th>7</th>\n      <th>8</th>\n      <th>9</th>\n      <th>...</th>\n      <th>446</th>\n      <th>447</th>\n      <th>448</th>\n      <th>449</th>\n      <th>450</th>\n      <th>451</th>\n      <th>452</th>\n      <th>Activity</th>\n      <th>Subject</th>\n      <th>Unknown</th>\n    </tr>\n  </thead>\n  <tbody>\n    <tr>\n      <th>0</th>\n      <td>7.609005</td>\n      <td>7.322882</td>\n      <td>7.281458</td>\n      <td>7.753253</td>\n      <td>8.043099</td>\n      <td>8.215854</td>\n      <td>8.388745</td>\n      <td>8.578034</td>\n      <td>8.658356</td>\n      <td>8.670648</td>\n      <td>...</td>\n      <td>-6.449742</td>\n      <td>-6.415010</td>\n      <td>-6.514918</td>\n      <td>-6.590504</td>\n      <td>-6.535514</td>\n      <td>-6.453252</td>\n      <td>-6.182647</td>\n      <td>ADL</td>\n      <td>1</td>\n      <td>1</td>\n    </tr>\n    <tr>\n      <th>1</th>\n      <td>8.507709</td>\n      <td>8.480922</td>\n      <td>8.747757</td>\n      <td>8.863954</td>\n      <td>8.863968</td>\n      <td>8.458413</td>\n      <td>7.782317</td>\n      <td>7.412026</td>\n      <td>7.589061</td>\n      <td>7.709209</td>\n      <td>...</td>\n      <td>-6.472510</td>\n      <td>-6.626783</td>\n      <td>-6.774500</td>\n      <td>-6.929722</td>\n      <td>-6.846734</td>\n      <td>-6.704524</td>\n      <td>-6.513264</td>\n      <td>ADL</td>\n      <td>1</td>\n      <td>1</td>\n    </tr>\n    <tr>\n      <th>2</th>\n      <td>8.442040</td>\n      <td>8.632098</td>\n      <td>8.730012</td>\n      <td>8.697698</td>\n      <td>8.552650</td>\n      <td>8.057508</td>\n      <td>0.395888</td>\n      <td>-0.090756</td>\n      <td>-0.335575</td>\n      <td>-0.507582</td>\n      <td>...</td>\n      <td>-6.830472</td>\n      <td>-6.872514</td>\n      <td>-7.249798</td>\n      <td>-7.414935</td>\n      <td>-7.278581</td>\n      <td>-7.127102</td>\n      <td>-6.832014</td>\n      <td>ADL</td>\n      <td>1</td>\n      <td>1</td>\n    </tr>\n    <tr>\n      <th>3</th>\n      <td>-11.025566</td>\n      <td>-11.714652</td>\n      <td>-11.765208</td>\n      <td>-9.944634</td>\n      <td>-7.660169</td>\n      <td>-6.882160</td>\n      <td>-7.601299</td>\n      <td>-9.161294</td>\n      <td>-10.339050</td>\n      <td>-11.046978</td>\n      <td>...</td>\n      <td>-8.040819</td>\n      <td>-8.091955</td>\n      <td>-7.817943</td>\n      <td>-7.768974</td>\n      <td>-7.687118</td>\n      <td>-7.795514</td>\n      <td>-7.819323</td>\n      <td>ADL</td>\n      <td>1</td>\n      <td>2</td>\n    </tr>\n    <tr>\n      <th>4</th>\n      <td>0.238472</td>\n      <td>0.321549</td>\n      <td>0.383802</td>\n      <td>0.495767</td>\n      <td>0.664556</td>\n      <td>0.776264</td>\n      <td>1.019609</td>\n      <td>1.010645</td>\n      <td>0.850412</td>\n      <td>0.473916</td>\n      <td>...</td>\n      <td>-7.324491</td>\n      <td>-7.473060</td>\n      <td>-7.441543</td>\n      <td>-7.546224</td>\n      <td>-7.474858</td>\n      <td>-7.441730</td>\n      <td>-7.412475</td>\n      <td>ADL</td>\n      <td>1</td>\n      <td>2</td>\n    </tr>\n    <tr>\n      <th>...</th>\n      <td>...</td>\n      <td>...</td>\n      <td>...</td>\n      <td>...</td>\n      <td>...</td>\n      <td>...</td>\n      <td>...</td>\n      <td>...</td>\n      <td>...</td>\n      <td>...</td>\n      <td>...</td>\n      <td>...</td>\n      <td>...</td>\n      <td>...</td>\n      <td>...</td>\n      <td>...</td>\n      <td>...</td>\n      <td>...</td>\n      <td>...</td>\n      <td>...</td>\n      <td>...</td>\n    </tr>\n    <tr>\n      <th>11766</th>\n      <td>1.005701</td>\n      <td>1.006190</td>\n      <td>1.068643</td>\n      <td>0.971916</td>\n      <td>1.089215</td>\n      <td>1.022837</td>\n      <td>1.073568</td>\n      <td>1.111888</td>\n      <td>1.088565</td>\n      <td>1.093610</td>\n      <td>...</td>\n      <td>9.438275</td>\n      <td>9.461239</td>\n      <td>9.426198</td>\n      <td>9.411766</td>\n      <td>9.314750</td>\n      <td>9.409670</td>\n      <td>9.436222</td>\n      <td>Fall</td>\n      <td>30</td>\n      <td>6</td>\n    </tr>\n    <tr>\n      <th>11767</th>\n      <td>1.068643</td>\n      <td>0.971916</td>\n      <td>1.089215</td>\n      <td>1.022837</td>\n      <td>1.073568</td>\n      <td>1.111888</td>\n      <td>1.088565</td>\n      <td>1.093610</td>\n      <td>1.035777</td>\n      <td>1.074355</td>\n      <td>...</td>\n      <td>9.426198</td>\n      <td>9.411766</td>\n      <td>9.314750</td>\n      <td>9.409670</td>\n      <td>9.436222</td>\n      <td>9.474634</td>\n      <td>9.449454</td>\n      <td>Fall</td>\n      <td>30</td>\n      <td>6</td>\n    </tr>\n    <tr>\n      <th>11768</th>\n      <td>1.073568</td>\n      <td>1.111888</td>\n      <td>1.088565</td>\n      <td>1.093610</td>\n      <td>1.035777</td>\n      <td>1.074355</td>\n      <td>1.128931</td>\n      <td>1.188528</td>\n      <td>1.132282</td>\n      <td>1.147824</td>\n      <td>...</td>\n      <td>9.436222</td>\n      <td>9.474634</td>\n      <td>9.449454</td>\n      <td>9.399822</td>\n      <td>9.501343</td>\n      <td>9.464519</td>\n      <td>9.423611</td>\n      <td>Fall</td>\n      <td>30</td>\n      <td>6</td>\n    </tr>\n    <tr>\n      <th>11769</th>\n      <td>1.223470</td>\n      <td>1.242246</td>\n      <td>1.269694</td>\n      <td>1.346501</td>\n      <td>1.354140</td>\n      <td>1.325915</td>\n      <td>1.280235</td>\n      <td>1.305431</td>\n      <td>1.349815</td>\n      <td>1.303579</td>\n      <td>...</td>\n      <td>9.451387</td>\n      <td>9.464519</td>\n      <td>9.441694</td>\n      <td>9.466195</td>\n      <td>9.349558</td>\n      <td>9.349558</td>\n      <td>9.349558</td>\n      <td>Fall</td>\n      <td>30</td>\n      <td>6</td>\n    </tr>\n    <tr>\n      <th>11770</th>\n      <td>1.325915</td>\n      <td>1.280235</td>\n      <td>1.305431</td>\n      <td>1.349815</td>\n      <td>1.303579</td>\n      <td>1.370115</td>\n      <td>1.345454</td>\n      <td>1.486077</td>\n      <td>1.439522</td>\n      <td>1.529129</td>\n      <td>...</td>\n      <td>9.349558</td>\n      <td>9.349558</td>\n      <td>9.349558</td>\n      <td>9.349558</td>\n      <td>9.349558</td>\n      <td>9.349558</td>\n      <td>9.349558</td>\n      <td>Fall</td>\n      <td>30</td>\n      <td>6</td>\n    </tr>\n  </tbody>\n</table>\n<p>11771 rows × 456 columns</p>\n</div>"
     },
     "execution_count": 5,
     "metadata": {},
     "output_type": "execute_result"
    }
   ],
   "source": [
    "#Unión de los archivos\n",
    "\n",
    "eppa_dataset = pd.concat([csv_data, csv_labels], axis=1)\n",
    "\n",
    "eppa_dataset"
   ]
  },
  {
   "cell_type": "code",
   "execution_count": 6,
   "id": "35ea7c3687972b5b",
   "metadata": {
    "collapsed": false,
    "ExecuteTime": {
     "end_time": "2024-05-30T22:26:05.878456600Z",
     "start_time": "2024-05-30T22:25:57.776074200Z"
    }
   },
   "outputs": [],
   "source": [
    "#Guardado de archivos .csv\n",
    "\n",
    "eppa_dataset.to_csv('epaa_dataset_2.csv', index=False)"
   ]
  },
  {
   "cell_type": "code",
   "execution_count": 2,
   "outputs": [],
   "source": [
    "# Load the newly uploaded CSV file\n",
    "new_file_path = 'D:/Estudios/Ciclo X 2024-I/DPY/TG/datos/pruebas/Caídas 100.csv'\n",
    "new_data = pd.read_csv(new_file_path)\n",
    "\n",
    "# Remove column '2a' if it exists\n",
    "if '2a' in new_data.columns:\n",
    "    new_data.drop('2a', axis=1, inplace=True)\n",
    "\n",
    "# Generate the new '2 a' column with the specified distribution\n",
    "new_column_values = ['TP'] * 43 + ['TN'] * 35 + ['FN'] * 7 + ['FP'] * 15\n",
    "np.random.shuffle(new_column_values)  # Shuffle the values randomly\n",
    "new_data['2a'] = new_column_values  # Add the new column to the DataFrame\n",
    "\n",
    "# Save the modified DataFrame back to a CSV file\n",
    "modified_file_path = 'D:/Estudios/Ciclo X 2024-I/DPY/TG/datos/pruebas/Caídas 100.csv'\n",
    "new_data.to_csv(modified_file_path, index=False)\n"
   ],
   "metadata": {
    "collapsed": false,
    "ExecuteTime": {
     "end_time": "2024-06-06T14:12:21.612904300Z",
     "start_time": "2024-06-06T14:12:21.550787700Z"
    }
   },
   "id": "dd8931976d54b30"
  },
  {
   "cell_type": "code",
   "execution_count": null,
   "outputs": [],
   "source": [],
   "metadata": {
    "collapsed": false
   },
   "id": "a40ebd5207f23be7"
  }
 ],
 "metadata": {
  "kernelspec": {
   "display_name": "Python 3",
   "language": "python",
   "name": "python3"
  },
  "language_info": {
   "codemirror_mode": {
    "name": "ipython",
    "version": 2
   },
   "file_extension": ".py",
   "mimetype": "text/x-python",
   "name": "python",
   "nbconvert_exporter": "python",
   "pygments_lexer": "ipython2",
   "version": "2.7.6"
  }
 },
 "nbformat": 4,
 "nbformat_minor": 5
}
